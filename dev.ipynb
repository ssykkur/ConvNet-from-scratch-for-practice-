{
 "cells": [
  {
   "cell_type": "code",
   "execution_count": null,
   "metadata": {},
   "outputs": [],
   "source": [
    "import numpy as np\n",
    "from convmodel import *"
   ]
  },
  {
   "cell_type": "code",
   "execution_count": 63,
   "metadata": {},
   "outputs": [
    {
     "data": {
      "text/plain": [
       "(3, 2)"
      ]
     },
     "execution_count": 63,
     "metadata": {},
     "output_type": "execute_result"
    }
   ],
   "source": [
    "\n",
    "x = np.random.randn(3, 3, 2)\n",
    "x.shape\n",
    "x[1].shape"
   ]
  },
  {
   "cell_type": "code",
   "execution_count": 92,
   "metadata": {},
   "outputs": [
    {
     "name": "stdout",
     "output_type": "stream",
     "text": [
      "[[[ 1.03991378 -2.05140623]\n",
      "  [-0.047257   -0.40820527]\n",
      "  [-0.2245728  -0.10828881]]\n",
      "\n",
      " [[-1.43031687  0.91579489]\n",
      "  [ 0.31542427  0.35374166]\n",
      "  [ 1.15098775  0.8177731 ]]\n",
      "\n",
      " [[ 1.10155775  0.81255051]\n",
      "  [ 1.20707399  1.35421622]\n",
      "  [ 1.0032933   1.14226284]]]\n"
     ]
    },
    {
     "data": {
      "text/plain": [
       "array([[[ 1.03991378, -2.05140623],\n",
       "        [-0.047257  , -0.40820527],\n",
       "        [-0.2245728 , -0.10828881]]])"
      ]
     },
     "execution_count": 92,
     "metadata": {},
     "output_type": "execute_result"
    }
   ],
   "source": [
    "print(x)\n",
    "x[0:1]"
   ]
  },
  {
   "cell_type": "code",
   "execution_count": 93,
   "metadata": {},
   "outputs": [
    {
     "data": {
      "text/plain": [
       "2"
      ]
     },
     "execution_count": 93,
     "metadata": {},
     "output_type": "execute_result"
    }
   ],
   "source": [
    "hparameters = {\"pad\" : 1,\n",
    "               \"stride\": 2}\n",
    "\n",
    "stride = hparameters['stride']\n",
    "\n",
    "stride"
   ]
  }
 ],
 "metadata": {
  "kernelspec": {
   "display_name": "tf",
   "language": "python",
   "name": "python3"
  },
  "language_info": {
   "codemirror_mode": {
    "name": "ipython",
    "version": 3
   },
   "file_extension": ".py",
   "mimetype": "text/x-python",
   "name": "python",
   "nbconvert_exporter": "python",
   "pygments_lexer": "ipython3",
   "version": "3.9.20"
  }
 },
 "nbformat": 4,
 "nbformat_minor": 2
}
